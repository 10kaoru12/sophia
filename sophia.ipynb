{
  "nbformat": 4,
  "nbformat_minor": 0,
  "metadata": {
    "colab": {
      "name": "sophia",
      "provenance": [],
      "collapsed_sections": [],
      "toc_visible": true,
      "mount_file_id": "1_hfNovBx6Ti9lGUZeTvC5O2-X40xlf7q",
      "authorship_tag": "ABX9TyOafk3HqMaLi45tzLHHLf+i",
      "include_colab_link": true
    },
    "kernelspec": {
      "name": "python3",
      "display_name": "Python 3"
    },
    "language_info": {
      "name": "python"
    }
  },
  "cells": [
    {
      "cell_type": "markdown",
      "metadata": {
        "id": "view-in-github",
        "colab_type": "text"
      },
      "source": [
        "<a href=\"https://colab.research.google.com/github/10kaoru12/sophia/blob/master/sophia.ipynb\" target=\"_parent\"><img src=\"https://colab.research.google.com/assets/colab-badge.svg\" alt=\"Open In Colab\"/></a>"
      ]
    },
    {
      "cell_type": "code",
      "metadata": {
        "colab": {
          "base_uri": "https://localhost:8080/"
        },
        "id": "bC_KMPusZ-13",
        "outputId": "1cb6091e-02c5-4cc8-8309-44c7e7f41688"
      },
      "source": [
        "! "
      ],
      "execution_count": 9,
      "outputs": [
        {
          "output_type": "stream",
          "text": [
            "total 20\n",
            "drwxr-xr-x 1 root root 4096 May 14 10:46 .\n",
            "drwxr-xr-x 1 root root 4096 May 14 10:36 ..\n",
            "drwxr-xr-x 4 root root 4096 May  6 13:43 .config\n",
            "drwx------ 5 root root 4096 May 14 10:46 drive\n",
            "drwxr-xr-x 1 root root 4096 May  6 13:44 sample_data\n"
          ],
          "name": "stdout"
        }
      ]
    }
  ]
}